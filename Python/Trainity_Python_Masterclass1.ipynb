{
  "nbformat": 4,
  "nbformat_minor": 0,
  "metadata": {
    "colab": {
      "provenance": []
    },
    "kernelspec": {
      "name": "python3",
      "display_name": "Python 3"
    },
    "language_info": {
      "name": "python"
    }
  },
  "cells": [
    {
      "cell_type": "markdown",
      "source": [
        "#Start learning Python"
      ],
      "metadata": {
        "id": "3RgumTfEgUdH"
      }
    },
    {
      "cell_type": "markdown",
      "source": [
        "##Hello Wolrd (Parampara)"
      ],
      "metadata": {
        "id": "kJXyL_O1gcAA"
      }
    },
    {
      "cell_type": "code",
      "execution_count": null,
      "metadata": {
        "colab": {
          "base_uri": "https://localhost:8080/"
        },
        "id": "7qgRG9RRAvTm",
        "outputId": "5771da5a-bbd6-4c79-ff43-f0673458eda4"
      },
      "outputs": [
        {
          "output_type": "stream",
          "name": "stdout",
          "text": [
            "hello wolrd\n"
          ]
        }
      ],
      "source": [
        "print('hello wolrd')"
      ]
    },
    {
      "cell_type": "markdown",
      "source": [
        "##Commenting"
      ],
      "metadata": {
        "id": "9xrQZMUVgq64"
      }
    },
    {
      "cell_type": "code",
      "source": [
        "#Hash is used to put comments in the code"
      ],
      "metadata": {
        "id": "BceCLR2rgwDE"
      },
      "execution_count": null,
      "outputs": []
    },
    {
      "cell_type": "markdown",
      "source": [
        "##Basic Math"
      ],
      "metadata": {
        "id": "i2kZ4rlKg9BE"
      }
    },
    {
      "cell_type": "markdown",
      "source": [
        "####arthematic"
      ],
      "metadata": {
        "id": "WEdHZYkOjSXs"
      }
    },
    {
      "cell_type": "code",
      "source": [
        "1+2"
      ],
      "metadata": {
        "colab": {
          "base_uri": "https://localhost:8080/"
        },
        "id": "Razvj4TWg8bz",
        "outputId": "9b5574e9-0172-4bba-90b9-40785a4ee60d"
      },
      "execution_count": null,
      "outputs": [
        {
          "output_type": "execute_result",
          "data": {
            "text/plain": [
              "3"
            ]
          },
          "metadata": {},
          "execution_count": 1
        }
      ]
    },
    {
      "cell_type": "code",
      "source": [
        "#Addition\n",
        "a=1\n",
        "b=3\n",
        "c=a+b\n",
        "print(c)"
      ],
      "metadata": {
        "colab": {
          "base_uri": "https://localhost:8080/"
        },
        "id": "WCd0WAMhhJ3f",
        "outputId": "21053950-a1fc-4ba2-b9df-79652bc26efd"
      },
      "execution_count": 2,
      "outputs": [
        {
          "output_type": "stream",
          "name": "stdout",
          "text": [
            "4\n"
          ]
        }
      ]
    },
    {
      "cell_type": "code",
      "source": [
        "#multiplication\n",
        "d=a*b\n",
        "print(d)"
      ],
      "metadata": {
        "colab": {
          "base_uri": "https://localhost:8080/"
        },
        "id": "0MY68LgwhPHt",
        "outputId": "0ac90698-8ccf-4b6e-b03c-59cc0bb18456"
      },
      "execution_count": null,
      "outputs": [
        {
          "output_type": "stream",
          "name": "stdout",
          "text": [
            "3\n"
          ]
        }
      ]
    },
    {
      "cell_type": "code",
      "source": [
        "#division\n",
        "e=a/b\n",
        "print(e)"
      ],
      "metadata": {
        "colab": {
          "base_uri": "https://localhost:8080/"
        },
        "id": "JZx3yleIhW1z",
        "outputId": "3032f761-9bc0-4d15-d98b-967d5cc97dc7"
      },
      "execution_count": null,
      "outputs": [
        {
          "output_type": "stream",
          "name": "stdout",
          "text": [
            "0.3333333333333333\n"
          ]
        }
      ]
    },
    {
      "cell_type": "code",
      "source": [
        "#Prefect Division\n",
        "f=a//b\n",
        "print(f)"
      ],
      "metadata": {
        "colab": {
          "base_uri": "https://localhost:8080/"
        },
        "id": "8OoxGpHjhab-",
        "outputId": "abfdde50-92be-4fdf-90f9-cfcb88280acc"
      },
      "execution_count": null,
      "outputs": [
        {
          "output_type": "stream",
          "name": "stdout",
          "text": [
            "0\n"
          ]
        }
      ]
    },
    {
      "cell_type": "code",
      "source": [
        "#Remainder\n",
        "g=a%b\n",
        "print(g)"
      ],
      "metadata": {
        "colab": {
          "base_uri": "https://localhost:8080/"
        },
        "id": "dpMgz7yeiO9h",
        "outputId": "d9370e02-b80f-481a-db69-466c48aaf9a7"
      },
      "execution_count": null,
      "outputs": [
        {
          "output_type": "stream",
          "name": "stdout",
          "text": [
            "1\n"
          ]
        }
      ]
    },
    {
      "cell_type": "markdown",
      "source": [
        "####Comparision"
      ],
      "metadata": {
        "id": "aYHSx0ZNjcso"
      }
    },
    {
      "cell_type": "code",
      "source": [
        "#Gater than or less than\n",
        "print(a>b)"
      ],
      "metadata": {
        "colab": {
          "base_uri": "https://localhost:8080/"
        },
        "id": "ucdbZVyg9k4k",
        "outputId": "f42e42ba-3a94-47dc-8a08-63631fda4ca8"
      },
      "execution_count": 3,
      "outputs": [
        {
          "output_type": "stream",
          "name": "stdout",
          "text": [
            "False\n"
          ]
        }
      ]
    },
    {
      "cell_type": "code",
      "source": [
        "#equals to\n",
        "print(a==b)"
      ],
      "metadata": {
        "colab": {
          "base_uri": "https://localhost:8080/"
        },
        "id": "lUYehyRW-O-y",
        "outputId": "9f663ccb-2f80-4328-9f58-b14e81a9b373"
      },
      "execution_count": 4,
      "outputs": [
        {
          "output_type": "stream",
          "name": "stdout",
          "text": [
            "False\n"
          ]
        }
      ]
    },
    {
      "cell_type": "code",
      "source": [
        "#not equals to\n",
        "print(a!=b)"
      ],
      "metadata": {
        "colab": {
          "base_uri": "https://localhost:8080/"
        },
        "id": "HN4XiekL-Tms",
        "outputId": "83da3b4e-82f7-42be-abb1-7e2d9924ffa1"
      },
      "execution_count": 5,
      "outputs": [
        {
          "output_type": "stream",
          "name": "stdout",
          "text": [
            "True\n"
          ]
        }
      ]
    },
    {
      "cell_type": "markdown",
      "source": [
        "####Logical"
      ],
      "metadata": {
        "id": "lral-9sZ_Ap1"
      }
    },
    {
      "cell_type": "code",
      "source": [
        "#And returns true if both conditions are met\n",
        "(3>2) and (5<10)"
      ],
      "metadata": {
        "colab": {
          "base_uri": "https://localhost:8080/"
        },
        "id": "e8VMmxID_E_Z",
        "outputId": "2171399c-0804-4b76-f242-1e8fd001edc8"
      },
      "execution_count": 8,
      "outputs": [
        {
          "output_type": "execute_result",
          "data": {
            "text/plain": [
              "True"
            ]
          },
          "metadata": {},
          "execution_count": 8
        }
      ]
    },
    {
      "cell_type": "code",
      "source": [
        "#Or returns true if either one conditions is met\n",
        "(3>=2) or (5<10)"
      ],
      "metadata": {
        "colab": {
          "base_uri": "https://localhost:8080/"
        },
        "id": "LtvlmzLS_m2H",
        "outputId": "2128577d-12ee-4a70-ef51-9715fd49a1c9"
      },
      "execution_count": 12,
      "outputs": [
        {
          "output_type": "execute_result",
          "data": {
            "text/plain": [
              "True"
            ]
          },
          "metadata": {},
          "execution_count": 12
        }
      ]
    }
  ]
}