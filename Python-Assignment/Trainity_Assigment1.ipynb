{
  "nbformat": 4,
  "nbformat_minor": 0,
  "metadata": {
    "colab": {
      "provenance": []
    },
    "kernelspec": {
      "name": "python3",
      "display_name": "Python 3"
    },
    "language_info": {
      "name": "python"
    }
  },
  "cells": [
    {
      "cell_type": "markdown",
      "source": [
        "1. Write a Python program that prompts the user to enter a value and\n",
        "determines its data type. Print a message indicating the data type of the\n",
        "entered value."
      ],
      "metadata": {
        "id": "76TPazICPbkA"
      }
    },
    {
      "cell_type": "code",
      "execution_count": 4,
      "metadata": {
        "colab": {
          "base_uri": "https://localhost:8080/"
        },
        "collapsed": true,
        "id": "AtD-LSBsPMnC",
        "outputId": "5817cfda-38f7-4e99-8e6c-d1234f19af76"
      },
      "outputs": [
        {
          "output_type": "stream",
          "name": "stdout",
          "text": [
            "Enter a value: 1.9\n",
            "The data type of the entered value is: <class 'str'>\n"
          ]
        }
      ],
      "source": [
        "# prompt: 1. Write a Python program that prompts the user to enter a value and\n",
        "# determines its data type. Print a message indicating the data type of the\n",
        "# entered value.\n",
        "\n",
        "user_input = input(\"Enter a value: \")\n",
        "print(f\"The data type of the entered value is: {type(user_input)}\")"
      ]
    },
    {
      "cell_type": "markdown",
      "source": [
        "2. Write a Python program that prompts the user to enter a string and performs\n",
        "the following operations:\n",
        "Print the length of the string.\n",
        "Convert the string to uppercase and print the result.\n",
        "Check if the string contains only alphabetic characters and print the result\n",
        "(True or False).\\"
      ],
      "metadata": {
        "id": "e9QZJyVPQt4f"
      }
    },
    {
      "cell_type": "code",
      "source": [
        "String = input('Enter String:')\n",
        "print(len(String))\n",
        "uppercase_string = String.upper()\n",
        "print(uppercase_string)\n",
        "print(String.isalpha())\n"
      ],
      "metadata": {
        "colab": {
          "base_uri": "https://localhost:8080/"
        },
        "collapsed": true,
        "id": "97JwvWBdQu2y",
        "outputId": "109e46ed-1fce-492e-fe5e-564d7d06d7c0"
      },
      "execution_count": 6,
      "outputs": [
        {
          "output_type": "stream",
          "name": "stdout",
          "text": [
            "Enter String:she11\n",
            "5\n",
            "SHE11\n",
            "False\n"
          ]
        }
      ]
    },
    {
      "cell_type": "markdown",
      "source": [
        "3. Write a Python program that prompts the user to enter two numbers and\n",
        "performs the following operations:\n",
        "Print the sum of the two numbers.\n",
        "Print the difference between the two numbers.\n",
        "Print the product of the two numbers.\n",
        "Print the result of dividing the first number by the second number."
      ],
      "metadata": {
        "id": "Gv5Dlu_WW2dm"
      }
    },
    {
      "cell_type": "code",
      "source": [
        "a=int(input('Type 1st number:'))\n",
        "b=int(input('Type 2nd number:'))\n",
        "print(f'Sum of both is:{a+b}')\n",
        "print(f'Difference between both is:{a-b}')\n",
        "print(f'Product of both is:{a*b}')\n",
        "print(f'Division of both is:{a/b}')"
      ],
      "metadata": {
        "colab": {
          "base_uri": "https://localhost:8080/"
        },
        "collapsed": true,
        "id": "BNHLIDFcW8Eo",
        "outputId": "b86f2d8d-f1e7-40cb-9a3c-9b6574d18bfb"
      },
      "execution_count": 7,
      "outputs": [
        {
          "output_type": "stream",
          "name": "stdout",
          "text": [
            "Type 1st number:1\n",
            "Type 2nd number:2\n",
            "Sum of both is:3\n",
            "Difference between both is:-1\n",
            "Product of both is:2\n",
            "Division of both is:0.5\n"
          ]
        }
      ]
    },
    {
      "cell_type": "markdown",
      "source": [
        "4. Write a Python program that demonstrates various list manipulation\n",
        "operations, such as:\n",
        "Appending elements to a list.\n",
        "Removing elements from a list.\n",
        "Accessing elements by index.\n",
        "Slicing a list to extract a sublist.\n",
        "Sorting the elements of a list in ascending order"
      ],
      "metadata": {
        "id": "ER4kaVGUXqcg"
      }
    },
    {
      "cell_type": "code",
      "source": [
        "marks=[4,5,7,9,0,2]\n",
        "print(marks)\n",
        "marks.append(1)\n",
        "print(marks)\n",
        "marks.append(3)\n",
        "print(marks)\n",
        "marks.pop(1)\n",
        "print(marks)\n",
        "print(marks[4])\n",
        "print(marks[2:6])\n",
        "print(marks)"
      ],
      "metadata": {
        "colab": {
          "base_uri": "https://localhost:8080/"
        },
        "id": "njngNRxaXyUU",
        "outputId": "99d480fa-3fb8-4fe9-e400-26fad6c31a3b"
      },
      "execution_count": 10,
      "outputs": [
        {
          "output_type": "stream",
          "name": "stdout",
          "text": [
            "[4, 5, 7, 9, 0, 2]\n",
            "[4, 5, 7, 9, 0, 2, 1]\n",
            "[4, 5, 7, 9, 0, 2, 1, 3]\n",
            "[4, 7, 9, 0, 2, 1, 3]\n",
            "2\n",
            "[9, 0, 2, 1]\n",
            "[4, 7, 9, 0, 2, 1, 3]\n"
          ]
        }
      ]
    },
    {
      "cell_type": "markdown",
      "source": [
        "5. Write a Python program that prompts the user to enter two tuples and\n",
        "performs the following operations:\n",
        "Concatenate the two tuples and print the result.\n",
        "Check if a specific element exists in either of the tuples and print the result\n",
        "(True or False)."
      ],
      "metadata": {
        "id": "kR7m6cFd4OfQ"
      }
    },
    {
      "cell_type": "code",
      "source": [
        "tup1=tuple(input(\"Enter first tuple(use , for different elements): \").split(','))\n",
        "tup2=tuple(input(\"Enter second tuple(use, for different elements):\").split(','))\n",
        "tuple1=tup1+tup2\n",
        "print(tuple1)\n",
        "val=input('enter value to check if it is there:')\n",
        "print(val in tuple1)"
      ],
      "metadata": {
        "colab": {
          "base_uri": "https://localhost:8080/"
        },
        "id": "d7tVp6JA4VFq",
        "outputId": "0c2b4de9-6a74-4ca1-b809-b0b96d4d9b10"
      },
      "execution_count": 25,
      "outputs": [
        {
          "output_type": "stream",
          "name": "stdout",
          "text": [
            "Enter first tuple(use , for different elements): 1,2,3,1\n",
            "Enter second tuple(use, for different elements):2,3,4\n",
            "('1', '2', '3', '1', '2', '3', '4')\n",
            "enter value to check if it is there:1\n",
            "True\n"
          ]
        }
      ]
    }
  ]
}